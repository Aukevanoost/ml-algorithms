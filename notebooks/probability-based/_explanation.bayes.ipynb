{
 "cells": [
  {
   "cell_type": "markdown",
   "metadata": {},
   "source": [
    "# Bayes theorem"
   ]
  },
  {
   "cell_type": "markdown",
   "metadata": {},
   "source": [
    "The probability that an event has happened given a set of evidence for it, is equal to the probability of the evidence being caused by the event, multiplied by the probability of the event itself. \n",
    "                           |\n",
    "$$ P(d|t) = {P(t|d) * P(d) \\over P(t)} $$"
   ]
  },
  {
   "cell_type": "markdown",
   "metadata": {},
   "source": [
    "### Posterior probability distribution\n",
    "The probability distribution, allows us to use bayes without explicitly calculating P(Y)\n",
    "\n",
    "η = normalization constant\n",
    "$$ η = {1 \\over \\sum_{i} P(t|d_i) * P(d_i)} $$\n",
    "\n",
    "$$ P(d_j | t) = {η \\over P(t|d_j) * P(d_j)} $$"
   ]
  },
  {
   "cell_type": "markdown",
   "metadata": {},
   "source": [
    "### MAP Prediction\n",
    "Choosing the best target feature level. Because it is a prediction, it doesnt need the normalization step (denominator).\n",
    "\n",
    "$$ M(d) = {arg_{l∈levels(t)} max( P(d_1,..,d_m | t_l) * P(t_l) ) } $$\n"
   ]
  },
  {
   "cell_type": "markdown",
   "metadata": {},
   "source": []
  }
 ],
 "metadata": {
  "kernelspec": {
   "display_name": "Python 3",
   "language": "python",
   "name": "python3"
  },
  "language_info": {
   "name": "python",
   "version": "3.11.4"
  }
 },
 "nbformat": 4,
 "nbformat_minor": 2
}
