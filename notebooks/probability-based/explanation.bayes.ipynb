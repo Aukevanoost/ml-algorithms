{
 "cells": [
  {
   "cell_type": "markdown",
   "metadata": {},
   "source": [
    "# Bayes theorem"
   ]
  },
  {
   "cell_type": "markdown",
   "metadata": {},
   "source": [
    "The probability that an event has happened given a set of evidence for it, is equal to the probability of the evidence being caused by the event, multiplied by the probability of the event itself. \n",
    "\n",
    "```\n",
    "|                                    |\n",
    "| P(d|t) = ( P(t|d) x P(d) ) / P(t)  |\n",
    "|                                    |\n",
    "```"
   ]
  },
  {
   "cell_type": "markdown",
   "metadata": {},
   "source": [
    "### Posterior probability distribution\n",
    "The probability distribution, allows us to use bayes without explicitly calculatin P(Y)\n",
    "\n",
    "η = normalization constant\n",
    "```\n",
    "|                                    |\n",
    "| η = 1 / Σ ( P(t|d[i]) x P(d[i]) )  |\n",
    "|         i                          |\n",
    "```\n",
    "\n",
    "```\n",
    "|                                        |\n",
    "| P(d[j] | t) = η / P(t|d[j]) x P(d[j])  |\n",
    "|                                        |\n",
    "```"
   ]
  },
  {
   "cell_type": "markdown",
   "metadata": {},
   "source": [
    "### MAP Prediction\n",
    "Choosing the best target feature level. Because it is a prediction, it doesnt need the normalization step (denominator).\n",
    "```\n",
    "|                                                                 |\n",
    "| M(d) = arg             max ( P(d[1],..,d[m] | t[l]) x P(t[l]) ) |\n",
    "|           l∈levels(t)                                           |\n",
    "```\n"
   ]
  },
  {
   "cell_type": "markdown",
   "metadata": {},
   "source": []
  }
 ],
 "metadata": {
  "kernelspec": {
   "display_name": "Python 3",
   "language": "python",
   "name": "python3"
  },
  "language_info": {
   "name": "python",
   "version": "3.11.4"
  }
 },
 "nbformat": 4,
 "nbformat_minor": 2
}
