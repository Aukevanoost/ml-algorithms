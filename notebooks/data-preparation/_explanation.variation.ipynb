{
 "cells": [
  {
   "cell_type": "markdown",
   "metadata": {},
   "source": [
    "# Central tendency and variation"
   ]
  },
  {
   "cell_type": "markdown",
   "metadata": {},
   "source": [
    "- **Cardinality:** amount of unique values\n",
    "- **Median:** Value in the middle of an ordered sample set\n",
    "- **Mode:** Most commonly occuring value \n",
    "- **Range:** min_value - max_value"
   ]
  },
  {
   "cell_type": "markdown",
   "metadata": {},
   "source": [
    "## Variation"
   ]
  },
  {
   "cell_type": "markdown",
   "metadata": {},
   "source": [
    "The **arithmetic mean** is the average of a feature. (sample mean: x̄, population mean: µ) \n",
    "\n",
    "$$ā = {1 \\over n} \\sum_{i}^n a_i$$\n",
    "\n",
    "The **variance** (σ²) is the average distance between each value and the mean.\n",
    "\n",
    "$$ var(a) = {\\sum_{i}^n (a_i - ā)^2 \\over n-1} $$ \n",
    "\n",
    "**Standard deviation** (σ), a normalized variant of the deviation\n",
    "\n",
    "$$ sd(a) = \\sqrt{var(a)} $$ "
   ]
  },
  {
   "cell_type": "markdown",
   "metadata": {},
   "source": [
    "#### Percentiles\n",
    "\n",
    "Percentile i = `perc_i = (i / 100) * n`. \n",
    "\n",
    "\n"
   ]
  },
  {
   "cell_type": "markdown",
   "metadata": {},
   "source": []
  }
 ],
 "metadata": {
  "kernelspec": {
   "display_name": "Python 3",
   "language": "python",
   "name": "python3"
  },
  "language_info": {
   "name": "python",
   "version": "3.11.4"
  }
 },
 "nbformat": 4,
 "nbformat_minor": 2
}
