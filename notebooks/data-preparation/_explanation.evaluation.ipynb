{
 "cells": [
  {
   "cell_type": "markdown",
   "metadata": {},
   "source": [
    "# Evaluation"
   ]
  },
  {
   "cell_type": "markdown",
   "metadata": {},
   "source": [
    "## Confusion matrix"
   ]
  },
  {
   "cell_type": "markdown",
   "metadata": {},
   "source": [
    "**Prediction**\n",
    "<table>\n",
    "    <tr>\n",
    "        <td colspan=\"2\" rowspan=\"2\"></td>\n",
    "        <td colspan=\"2\">Prediction</td>\n",
    "    </tr>\n",
    "    <tr>\n",
    "        <td>Positive</td>\n",
    "        <td>Negative</td>\n",
    "    </tr>\n",
    "    <tr>\n",
    "        <td rowspan=\"2\">Target</td>\n",
    "        <td>Positive</td>\n",
    "        <td>TP</td>\n",
    "        <td>TN</td>\n",
    "    </tr>\n",
    "        <tr>\n",
    "        <td>Negative</td>\n",
    "        <td>FP</td>\n",
    "        <td>FN</td>\n",
    "    </tr>\n",
    "</table>\n"
   ]
  },
  {
   "cell_type": "markdown",
   "metadata": {},
   "source": [
    "**Misclassification Rate** <br />\n",
    "Nr. of incorrect predictions divided by total predictions. \n",
    "\n",
    "$$ rate = { (FP + FN) \\over (TP + TN + FP + FN)} $$\n",
    "\n",
    "**Classification Accuracy**\n",
    "$$ accuracy = { (TP + TN) \\over (TP + TN + FP + FN)} $$\n"
   ]
  },
  {
   "cell_type": "markdown",
   "metadata": {},
   "source": [
    "## F1 Measure"
   ]
  },
  {
   "cell_type": "markdown",
   "metadata": {},
   "source": [
    "**Rates:**<br /> <br />\n",
    "**TPR** = ${ TP \\over TP + FN} $ &nbsp;&nbsp;\n",
    "**FNR** = ${ FN \\over TP + FN} $ &nbsp;&nbsp;\n",
    "**TNR** = ${ TN \\over TN + FP} $ &nbsp;&nbsp;\n",
    "**FPR** = ${ FP \\over TN + FP} $ &nbsp;&nbsp;\n",
    "<br /><br />\n",
    "\n",
    "**Precision:** ${ TP \\over TP + FP} $  &nbsp;&nbsp;\n",
    "**Recall:** ${ TP \\over TP + FN} $ \n",
    "\n",
    " $$\\text{F1 Measure} = 2 * {  Precision * Recall \\over Precision + Recall} $$"
   ]
  },
  {
   "cell_type": "markdown",
   "metadata": {},
   "source": [
    "## Average Class accuracy:"
   ]
  },
  {
   "cell_type": "markdown",
   "metadata": {},
   "source": [
    "$$ \\text{Arithmetic mean} = { 1 \\over |levels(t)|} \\sum_{i∈levels(t)} recall(i)$$\n",
    "\n",
    "$$ \\text{Harmonic mean} = { 1 \\over {1 \\over levels(t)} \\sum_{i∈levels(t)} {1 \\over recall(i)}}$$"
   ]
  },
  {
   "cell_type": "markdown",
   "metadata": {},
   "source": []
  }
 ],
 "metadata": {
  "kernelspec": {
   "display_name": "Python 3",
   "language": "python",
   "name": "python3"
  },
  "language_info": {
   "codemirror_mode": {
    "name": "ipython",
    "version": 3
   },
   "file_extension": ".py",
   "mimetype": "text/x-python",
   "name": "python",
   "nbconvert_exporter": "python",
   "pygments_lexer": "ipython3",
   "version": "3.11.4"
  }
 },
 "nbformat": 4,
 "nbformat_minor": 2
}
