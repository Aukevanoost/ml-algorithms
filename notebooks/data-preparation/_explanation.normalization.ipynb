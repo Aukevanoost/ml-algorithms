{
 "cells": [
  {
   "cell_type": "markdown",
   "metadata": {},
   "source": [
    "# Normalization"
   ]
  },
  {
   "cell_type": "markdown",
   "metadata": {},
   "source": [
    "Range normalization:\n",
    "```\n",
    "| h = 1; l = -1;  # range                                |\n",
    "|                                                        |\n",
    "| a'ᵢ = (aᵢ - min(a)) / (max(a) - min(a)) x (h-l) + low  |\n",
    "|                                                        |\n",
    "```\n",
    "Z-score:\n",
    "```\n",
    "|                                                        |\n",
    "| a'ᵢ = (aᵢ - ā) / sd(a)                                 |\n",
    "|                                                        |\n",
    "```"
   ]
  },
  {
   "cell_type": "code",
   "execution_count": null,
   "metadata": {},
   "outputs": [],
   "source": []
  }
 ],
 "metadata": {
  "language_info": {
   "name": "python"
  }
 },
 "nbformat": 4,
 "nbformat_minor": 2
}
