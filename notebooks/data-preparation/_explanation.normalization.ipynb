{
 "cells": [
  {
   "cell_type": "markdown",
   "metadata": {},
   "source": [
    "# Normalization"
   ]
  },
  {
   "cell_type": "markdown",
   "metadata": {},
   "source": [
    "**Range normalization:**\n",
    "$$[low, high] = [-1, 1]$$\n",
    "\n",
    "$$a'_i = {a_i - min(a) \\over max(a) - min(a)} * (high-low) + low $$\n",
    "\n",
    "**Z-score:**\n",
    "$$a'_i = {aᵢ - ā \\over sd(a)}$$"
   ]
  },
  {
   "cell_type": "code",
   "execution_count": null,
   "metadata": {},
   "outputs": [],
   "source": [
    "import pandas as pd\n",
    "import numpy as np\n",
    "from functools import reduce\n",
    "\n",
    "def z_score(df: pd.DataFrame, feature):\n",
    "    # mean = df[feature].sum() / df[feature].size\n",
    "    mean = df[feature].mean()\n",
    "\n",
    "    # var = reduce(lambda x: pow(x - mean, 2), df[feature], 0)\n",
    "    # sd = np.sqrt(var / df[feature].size)\n",
    "    sd = df[feature].std()\n",
    "\n",
    "    df[feature] = (df[feature] - mean) / sd\n"
   ]
  }
 ],
 "metadata": {
  "kernelspec": {
   "display_name": "Python 3",
   "language": "python",
   "name": "python3"
  },
  "language_info": {
   "codemirror_mode": {
    "name": "ipython",
    "version": 3
   },
   "file_extension": ".py",
   "mimetype": "text/x-python",
   "name": "python",
   "nbconvert_exporter": "python",
   "pygments_lexer": "ipython3",
   "version": "3.11.4"
  }
 },
 "nbformat": 4,
 "nbformat_minor": 2
}
