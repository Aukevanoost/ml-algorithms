{
 "cells": [
  {
   "cell_type": "markdown",
   "metadata": {},
   "source": [
    "# Normalization"
   ]
  },
  {
   "cell_type": "markdown",
   "metadata": {},
   "source": [
    "Range normalization:\n",
    "```\n",
    "| h = 1; l = -1;  # range                                |\n",
    "|                                                        |\n",
    "| a'ᵢ = (aᵢ - min(a)) / (max(a) - min(a)) x (h-l) + low  |\n",
    "|                                                        |\n",
    "```\n",
    "Z-score:\n",
    "```\n",
    "|                                                        |\n",
    "| a'ᵢ = (aᵢ - ā) / sd(a)                                 |\n",
    "|                                                        |\n",
    "```"
   ]
  },
  {
   "cell_type": "code",
   "execution_count": null,
   "metadata": {},
   "outputs": [],
   "source": []
  }
 ],
 "metadata": {
  "kernelspec": {
   "display_name": "Python 3",
   "language": "python",
   "name": "python3"
  },
  "language_info": {
   "codemirror_mode": {
    "name": "ipython",
    "version": 3
   },
   "file_extension": ".py",
   "mimetype": "text/x-python",
   "name": "python",
   "nbconvert_exporter": "python",
   "pygments_lexer": "ipython3",
   "version": "3.11.4"
  }
 },
 "nbformat": 4,
 "nbformat_minor": 2
}
