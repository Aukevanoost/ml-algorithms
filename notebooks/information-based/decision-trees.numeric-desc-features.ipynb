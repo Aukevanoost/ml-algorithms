{
 "cells": [
  {
   "cell_type": "markdown",
   "metadata": {},
   "source": [
    "# Using sci-kit learn for decision trees"
   ]
  },
  {
   "cell_type": "code",
   "execution_count": 7,
   "metadata": {},
   "outputs": [],
   "source": [
    "import pandas as pd\n",
    "from sklearn.tree import DecisionTreeClassifier\n",
    "from sklearn.model_selection import train_test_split\n",
    "from sklearn.metrics import accuracy_score, classification_report"
   ]
  },
  {
   "cell_type": "code",
   "execution_count": 8,
   "metadata": {},
   "outputs": [
    {
     "data": {
      "text/plain": [
       "['Matig', 'Goed', 'Goor']\n",
       "Categories (3, object): ['Goor' < 'Matig' < 'Goed']"
      ]
     },
     "execution_count": 8,
     "metadata": {},
     "output_type": "execute_result"
    }
   ],
   "source": [
    "d = [\"fixed_acidity\", \"volatile_acidity\", \"citric_acid\", \"residual_sugar\", \"chlorites\", \"free_sulfir_dioxide\",\"total_sulfur_dioxide\", \"density\", \"ph\", \"sulphates\", \"alcohol\"]\n",
    "t = \"quality\"\n",
    "\n",
    "df = pd.read_csv('../../datasets/winequality.decision-trees.csv', sep=',', names=d + [t], header=0)\n",
    "\n",
    "# Label Encoding\n",
    "df[t] = pd.cut(df[t], bins=range(2, 12, 3), right=False, labels=['Goor','Matig', 'Goed'])\n",
    "\n",
    "df[t].unique()"
   ]
  },
  {
   "cell_type": "code",
   "execution_count": 9,
   "metadata": {},
   "outputs": [],
   "source": [
    "X = df.drop(t,axis=1)\n",
    "y = df[t]\n",
    "\n",
    "X_train, X_test, y_train, y_test = train_test_split(X, y, test_size=0.2) # random_state=42\n"
   ]
  },
  {
   "cell_type": "code",
   "execution_count": 10,
   "metadata": {},
   "outputs": [
    {
     "data": {
      "text/plain": [
       "'3918 records used'"
      ]
     },
     "execution_count": 10,
     "metadata": {},
     "output_type": "execute_result"
    }
   ],
   "source": [
    "classifier = DecisionTreeClassifier(criterion='entropy')\n",
    "wine_tree = classifier.fit(X_train, y_train)\n",
    "\n",
    "# tree.plot_tree(wine_tree, feature_names=d, fontsize = 12,\n",
    "#                       class_names=['Goor','Matig', 'Goed'],  \n",
    "#                       filled=True, rounded=True) \n",
    "f\"{len(y_train)} records used\""
   ]
  },
  {
   "cell_type": "code",
   "execution_count": 11,
   "metadata": {},
   "outputs": [
    {
     "data": {
      "text/plain": [
       "'Accuracy: 0.9081632653061225'"
      ]
     },
     "execution_count": 11,
     "metadata": {},
     "output_type": "execute_result"
    }
   ],
   "source": [
    "prediction = wine_tree.predict(X_test)\n",
    "f\"Accuracy: {accuracy_score(y_test, prediction)}\" "
   ]
  },
  {
   "cell_type": "code",
   "execution_count": 12,
   "metadata": {},
   "outputs": [
    {
     "name": "stdout",
     "output_type": "stream",
     "text": [
      "Classification Report:\n",
      "               precision    recall  f1-score   support\n",
      "\n",
      "        Goed       0.49      0.48      0.48        42\n",
      "        Goor       0.33      0.31      0.32        36\n",
      "       Matig       0.95      0.95      0.95       902\n",
      "\n",
      "    accuracy                           0.91       980\n",
      "   macro avg       0.59      0.58      0.58       980\n",
      "weighted avg       0.91      0.91      0.91       980\n",
      "\n"
     ]
    }
   ],
   "source": [
    "print(\"Classification Report:\\n\", classification_report(y_test, prediction))"
   ]
  }
 ],
 "metadata": {
  "kernelspec": {
   "display_name": "Python 3",
   "language": "python",
   "name": "python3"
  },
  "language_info": {
   "codemirror_mode": {
    "name": "ipython",
    "version": 3
   },
   "file_extension": ".py",
   "mimetype": "text/x-python",
   "name": "python",
   "nbconvert_exporter": "python",
   "pygments_lexer": "ipython3",
   "version": "3.11.4"
  }
 },
 "nbformat": 4,
 "nbformat_minor": 2
}
