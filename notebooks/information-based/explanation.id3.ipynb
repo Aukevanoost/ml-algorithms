{
 "cells": [
  {
   "cell_type": "markdown",
   "metadata": {},
   "source": [
    "# Information-based learning"
   ]
  },
  {
   "cell_type": "code",
   "execution_count": 77,
   "metadata": {},
   "outputs": [],
   "source": [
    "import pandas as pd\n",
    "import numpy as np\n",
    "from sklearn.model_selection import train_test_split\n",
    "from typing import List, Dict"
   ]
  },
  {
   "cell_type": "markdown",
   "metadata": {},
   "source": [
    "## 1. Util functions"
   ]
  },
  {
   "cell_type": "markdown",
   "metadata": {},
   "source": [
    "### DataSet wrapper"
   ]
  },
  {
   "cell_type": "code",
   "execution_count": 78,
   "metadata": {},
   "outputs": [],
   "source": [
    "class Feature: \n",
    "    def __init__(self, D, f):\n",
    "        self._D = D\n",
    "        self._f = f\n",
    "    \n",
    "    def filter(self, l): \n",
    "        return Feature(self._D[self._D[self._f] == l], self._f)\n",
    "    \n",
    "    def IsHomogenous(self) -> bool:\n",
    "        return self._D[self._f].nunique() == 1\n",
    "    \n",
    "    @property\n",
    "    def Mode(self) -> str:\n",
    "        return self._D[self._f].mode().iloc[0]\n",
    "    \n",
    "    @property\n",
    "    def levels(self) -> List[str]:\n",
    "        return self._D[self._f].unique()\n",
    "    \n",
    "    @property\n",
    "    def rows(self) -> int:\n",
    "        return self._D.shape[0]\n",
    "\n",
    "class DataSet:\n",
    "    def __init__(self, D: pd.DataFrame, t: str):\n",
    "        self._D = D\n",
    "        self._t = t\n",
    "\n",
    "    def feature(self, feature) -> Feature: \n",
    "        return Feature(self._D, feature)\n",
    "    \n",
    "    def desc(self, feature) -> Feature: \n",
    "        return Feature(self._D, feature)\n",
    "    \n",
    "    def target(self) -> Feature: \n",
    "        return Feature(self._D, self._t)\n",
    "    \n",
    "    def filter(self, f, l): \n",
    "        return DataSet(self._D[self._D[f] == l], self._t)\n",
    "    \n",
    "    @property\n",
    "    def rows(self) -> int:\n",
    "        return self._D.shape[0]\n",
    "\n",
    "    @property\n",
    "    def df(self): \n",
    "        return self._D "
   ]
  },
  {
   "cell_type": "markdown",
   "metadata": {},
   "source": [
    "## 3. ID3 Algorithm"
   ]
  },
  {
   "cell_type": "markdown",
   "metadata": {},
   "source": [
    "#### 3.1 Entropy functions"
   ]
  },
  {
   "cell_type": "code",
   "execution_count": 79,
   "metadata": {},
   "outputs": [],
   "source": [
    "def P(l, f: Feature):\n",
    "    return f.filter(l).rows / f.rows\n",
    "\n",
    "def H(D: DataSet) -> float:\n",
    "    entropy = lambda P: P * np.log2( P )\n",
    "    t = D.target()\n",
    "    return -sum([ entropy( P(l, t) ) for l in t.levels])\n",
    "\n",
    "def REM(desc_feature: str, D: DataSet) -> float: \n",
    "    d = D.feature(desc_feature)\n",
    "    \n",
    "    # sum ( weight of level * entropy of level) \n",
    "    return sum([ P(l, d) * H(D.filter(desc_feature, l)) for l in d.levels])"
   ]
  },
  {
   "cell_type": "markdown",
   "metadata": {},
   "source": [
    "#### 3.2 Tree datastructure"
   ]
  },
  {
   "cell_type": "code",
   "execution_count": 80,
   "metadata": {},
   "outputs": [],
   "source": [
    "class Node:\n",
    "    def show(self, indent=0) -> str: \n",
    "        pass\n",
    "    \n",
    "    def predict(self, instance: pd.Series):\n",
    "        pass\n",
    "\n",
    "class Leaf(Node): \n",
    "    def __init__(self, feature):\n",
    "        self.feature = feature\n",
    "\n",
    "    def show(self, indent=0) -> str: \n",
    "        print(f\"{indent*' '}- Leaf: {self.feature}\")\n",
    "\n",
    "    def predict(self, _): \n",
    "        return self.feature\n",
    "\n",
    "class Composite(Node): \n",
    "    def __init__(self, feature):\n",
    "        self.feature = feature\n",
    "        self.children: Dict[Any, Node] = {}\n",
    "\n",
    "    def add(self, option, node):\n",
    "        self.children[option] = node\n",
    "\n",
    "    def mode(self, option):\n",
    "        self._mode = option\n",
    "\n",
    "    def show(self, indent=0) -> str: \n",
    "        print(f\"{indent*' '}Node: {self.feature}\")\n",
    "        for option in self.children:\n",
    "            print(f\"{indent*' '}- Option: {option}\")\n",
    "            self.children[option].show(indent+4)\n",
    "\n",
    "    def predict(self, instance: pd.Series): \n",
    "        val = instance[self.feature]\n",
    "        if(val in self.children):\n",
    "            return self.children[val].predict(instance)\n",
    "        else:\n",
    "            return self.children[self._mode].predict(instance)\n",
    "        "
   ]
  },
  {
   "cell_type": "markdown",
   "metadata": {},
   "source": [
    "#### 3.3 Algorithm"
   ]
  },
  {
   "cell_type": "code",
   "execution_count": 81,
   "metadata": {},
   "outputs": [],
   "source": [
    "def ID3(d: List[str], D: DataSet) -> Node:\n",
    "     \n",
    "    if(D.rows < 1): \n",
    "        raise Exception(\"DataSet is empty.\") \n",
    "    \n",
    "    if(len(d) < 1): \n",
    "        return Leaf( D.target().Mode )\n",
    "    \n",
    "    if(D.target().IsHomogenous()):\n",
    "        return Leaf( D.target().levels[0] )\n",
    "\n",
    "    MAX_IG = pd.Series(\n",
    "        [ H(D) - REM(f, D) for f in d], \n",
    "        index=d\n",
    "    ).idxmax()\n",
    "\n",
    "    decision_node = Composite(MAX_IG)\n",
    "    \n",
    "    modeDensity = 0\n",
    "    for l in D.df[MAX_IG].unique():\n",
    "        partition = D.filter(MAX_IG, l)\n",
    "\n",
    "        child = D.target().Mode if partition.rows < 1 else ID3(list(filter(lambda l: l != MAX_IG, d)), partition)\n",
    "        decision_node.add(l, child)\n",
    "\n",
    "        pDensity = partition.rows / D.rows\n",
    "        if(pDensity > modeDensity):\n",
    "            decision_node.mode(l)\n",
    "            modeDensity = pDensity\n",
    "\n",
    "    return decision_node"
   ]
  },
  {
   "cell_type": "markdown",
   "metadata": {},
   "source": [
    "## 4. Spam-ham example"
   ]
  },
  {
   "cell_type": "code",
   "execution_count": 82,
   "metadata": {},
   "outputs": [
    {
     "data": {
      "text/html": [
       "<div>\n",
       "<style scoped>\n",
       "    .dataframe tbody tr th:only-of-type {\n",
       "        vertical-align: middle;\n",
       "    }\n",
       "\n",
       "    .dataframe tbody tr th {\n",
       "        vertical-align: top;\n",
       "    }\n",
       "\n",
       "    .dataframe thead th {\n",
       "        text-align: right;\n",
       "    }\n",
       "</style>\n",
       "<table border=\"1\" class=\"dataframe\">\n",
       "  <thead>\n",
       "    <tr style=\"text-align: right;\">\n",
       "      <th></th>\n",
       "      <th>ID</th>\n",
       "      <th>Suspicious words</th>\n",
       "      <th>Unknown sender</th>\n",
       "      <th>Contains images</th>\n",
       "      <th>Class</th>\n",
       "    </tr>\n",
       "  </thead>\n",
       "  <tbody>\n",
       "    <tr>\n",
       "      <th>0</th>\n",
       "      <td>367</td>\n",
       "      <td>True</td>\n",
       "      <td>False</td>\n",
       "      <td>True</td>\n",
       "      <td>SPAM</td>\n",
       "    </tr>\n",
       "    <tr>\n",
       "      <th>1</th>\n",
       "      <td>489</td>\n",
       "      <td>True</td>\n",
       "      <td>True</td>\n",
       "      <td>False</td>\n",
       "      <td>SPAM</td>\n",
       "    </tr>\n",
       "    <tr>\n",
       "      <th>2</th>\n",
       "      <td>541</td>\n",
       "      <td>True</td>\n",
       "      <td>True</td>\n",
       "      <td>False</td>\n",
       "      <td>SPAM</td>\n",
       "    </tr>\n",
       "    <tr>\n",
       "      <th>3</th>\n",
       "      <td>693</td>\n",
       "      <td>False</td>\n",
       "      <td>True</td>\n",
       "      <td>True</td>\n",
       "      <td>HAM</td>\n",
       "    </tr>\n",
       "    <tr>\n",
       "      <th>4</th>\n",
       "      <td>782</td>\n",
       "      <td>False</td>\n",
       "      <td>False</td>\n",
       "      <td>False</td>\n",
       "      <td>HAM</td>\n",
       "    </tr>\n",
       "    <tr>\n",
       "      <th>5</th>\n",
       "      <td>976</td>\n",
       "      <td>False</td>\n",
       "      <td>False</td>\n",
       "      <td>False</td>\n",
       "      <td>HAM</td>\n",
       "    </tr>\n",
       "  </tbody>\n",
       "</table>\n",
       "</div>"
      ],
      "text/plain": [
       "    ID  Suspicious words  Unknown sender  Contains images Class\n",
       "0  367              True           False             True  SPAM\n",
       "1  489              True            True            False  SPAM\n",
       "2  541              True            True            False  SPAM\n",
       "3  693             False            True             True   HAM\n",
       "4  782             False           False            False   HAM\n",
       "5  976             False           False            False   HAM"
      ]
     },
     "execution_count": 82,
     "metadata": {},
     "output_type": "execute_result"
    }
   ],
   "source": [
    "data = [\n",
    "    [367,True,False,True,'SPAM'],\n",
    "    [489,True,True,False,'SPAM'],\n",
    "    [541,True,True,False,'SPAM'],\n",
    "    [693,False,True,True,'HAM'],\n",
    "    [782,False,False,False,'HAM'],\n",
    "    [976,False,False,False,'HAM'],\n",
    "] \n",
    "features = ['ID', 'Suspicious words', 'Unknown sender', 'Contains images', 'Class']\n",
    "spam_emails = pd.DataFrame(data, columns=features)\n",
    "\n",
    "spam_emails"
   ]
  },
  {
   "cell_type": "code",
   "execution_count": 83,
   "metadata": {},
   "outputs": [],
   "source": [
    "t: str = 'Class'\n",
    "d: List[str] = features[1:4]\n",
    "D: DataSet = DataSet(spam_emails, t='Class')"
   ]
  },
  {
   "cell_type": "code",
   "execution_count": 84,
   "metadata": {},
   "outputs": [
    {
     "data": {
      "text/plain": [
       "Suspicious words    1.000000\n",
       "Unknown sender      0.081704\n",
       "Contains images     0.000000\n",
       "dtype: float64"
      ]
     },
     "execution_count": 84,
     "metadata": {},
     "output_type": "execute_result"
    }
   ],
   "source": [
    "# Information Gain\n",
    "# IG = H(target_feature, D) - REM(descriptive_feature, D)\n",
    "pd.Series(\n",
    "    [ H(D) - REM(f, D) for f in d], \n",
    "    index=d\n",
    ")"
   ]
  },
  {
   "cell_type": "markdown",
   "metadata": {},
   "source": [
    "#### Algorithm"
   ]
  },
  {
   "cell_type": "code",
   "execution_count": 85,
   "metadata": {},
   "outputs": [
    {
     "name": "stdout",
     "output_type": "stream",
     "text": [
      "Node: Suspicious words\n",
      "- Option: True\n",
      "    - Leaf: SPAM\n",
      "- Option: False\n",
      "    - Leaf: HAM\n"
     ]
    }
   ],
   "source": [
    "tree = ID3(d, D)\n",
    "tree.show()"
   ]
  },
  {
   "cell_type": "code",
   "execution_count": 86,
   "metadata": {},
   "outputs": [
    {
     "data": {
      "text/plain": [
       "'SPAM'"
      ]
     },
     "execution_count": 86,
     "metadata": {},
     "output_type": "execute_result"
    }
   ],
   "source": [
    "new_record = pd.Series({'Suspicious words': True, 'Unknown sender': False, 'Contains images': True})\n",
    "tree.predict(new_record)"
   ]
  },
  {
   "cell_type": "markdown",
   "metadata": {},
   "source": [
    "## 5. Real world dataset"
   ]
  },
  {
   "cell_type": "markdown",
   "metadata": {},
   "source": [
    "### Setup "
   ]
  },
  {
   "cell_type": "code",
   "execution_count": 87,
   "metadata": {},
   "outputs": [
    {
     "data": {
      "text/html": [
       "<div>\n",
       "<style scoped>\n",
       "    .dataframe tbody tr th:only-of-type {\n",
       "        vertical-align: middle;\n",
       "    }\n",
       "\n",
       "    .dataframe tbody tr th {\n",
       "        vertical-align: top;\n",
       "    }\n",
       "\n",
       "    .dataframe thead th {\n",
       "        text-align: right;\n",
       "    }\n",
       "</style>\n",
       "<table border=\"1\" class=\"dataframe\">\n",
       "  <thead>\n",
       "    <tr style=\"text-align: right;\">\n",
       "      <th></th>\n",
       "      <th>Age</th>\n",
       "      <th>Sex</th>\n",
       "      <th>BP</th>\n",
       "      <th>Cholesterol</th>\n",
       "      <th>Na_to_K</th>\n",
       "      <th>Drug</th>\n",
       "      <th>AgeGroup</th>\n",
       "    </tr>\n",
       "  </thead>\n",
       "  <tbody>\n",
       "    <tr>\n",
       "      <th>0</th>\n",
       "      <td>23</td>\n",
       "      <td>F</td>\n",
       "      <td>HIGH</td>\n",
       "      <td>HIGH</td>\n",
       "      <td>25.355</td>\n",
       "      <td>drugY</td>\n",
       "      <td>2</td>\n",
       "    </tr>\n",
       "    <tr>\n",
       "      <th>1</th>\n",
       "      <td>47</td>\n",
       "      <td>M</td>\n",
       "      <td>LOW</td>\n",
       "      <td>HIGH</td>\n",
       "      <td>13.093</td>\n",
       "      <td>drugC</td>\n",
       "      <td>7</td>\n",
       "    </tr>\n",
       "    <tr>\n",
       "      <th>2</th>\n",
       "      <td>47</td>\n",
       "      <td>M</td>\n",
       "      <td>LOW</td>\n",
       "      <td>HIGH</td>\n",
       "      <td>10.114</td>\n",
       "      <td>drugC</td>\n",
       "      <td>7</td>\n",
       "    </tr>\n",
       "    <tr>\n",
       "      <th>3</th>\n",
       "      <td>28</td>\n",
       "      <td>F</td>\n",
       "      <td>NORMAL</td>\n",
       "      <td>HIGH</td>\n",
       "      <td>7.798</td>\n",
       "      <td>drugX</td>\n",
       "      <td>3</td>\n",
       "    </tr>\n",
       "    <tr>\n",
       "      <th>4</th>\n",
       "      <td>61</td>\n",
       "      <td>F</td>\n",
       "      <td>LOW</td>\n",
       "      <td>HIGH</td>\n",
       "      <td>18.043</td>\n",
       "      <td>drugY</td>\n",
       "      <td>10</td>\n",
       "    </tr>\n",
       "  </tbody>\n",
       "</table>\n",
       "</div>"
      ],
      "text/plain": [
       "   Age Sex      BP Cholesterol  Na_to_K   Drug  AgeGroup\n",
       "0   23   F    HIGH        HIGH   25.355  drugY         2\n",
       "1   47   M     LOW        HIGH   13.093  drugC         7\n",
       "2   47   M     LOW        HIGH   10.114  drugC         7\n",
       "3   28   F  NORMAL        HIGH    7.798  drugX         3\n",
       "4   61   F     LOW        HIGH   18.043  drugY        10"
      ]
     },
     "execution_count": 87,
     "metadata": {},
     "output_type": "execute_result"
    }
   ],
   "source": [
    "df = pd.read_csv('../../datasets/drugs.decision-trees.csv', sep=',', names=[\"Age\",\"Sex\", \"BP\", \"Cholesterol\", \"Na_to_K\", \"Drug\"], header=0)\n",
    "df['AgeGroup'] = pd.cut(df['Age'], bins=range(10, 80, 5), right=False, labels=False) # age range is between 15 and 74\n",
    "\n",
    "d = [\"Age\", \"Sex\", \"BP\", \"Cholesterol\"]\n",
    "t = 'Drug'\n",
    "\n",
    "df.head(5)\n"
   ]
  },
  {
   "cell_type": "markdown",
   "metadata": {},
   "source": [
    "### Data check"
   ]
  },
  {
   "cell_type": "code",
   "execution_count": 88,
   "metadata": {},
   "outputs": [
    {
     "data": {
      "text/html": [
       "<div>\n",
       "<style scoped>\n",
       "    .dataframe tbody tr th:only-of-type {\n",
       "        vertical-align: middle;\n",
       "    }\n",
       "\n",
       "    .dataframe tbody tr th {\n",
       "        vertical-align: top;\n",
       "    }\n",
       "\n",
       "    .dataframe thead th {\n",
       "        text-align: right;\n",
       "    }\n",
       "</style>\n",
       "<table border=\"1\" class=\"dataframe\">\n",
       "  <thead>\n",
       "    <tr style=\"text-align: right;\">\n",
       "      <th></th>\n",
       "      <th>feature</th>\n",
       "      <th>count</th>\n",
       "      <th>% miss.</th>\n",
       "      <th>card.</th>\n",
       "      <th>Mode</th>\n",
       "      <th>Mode freq.</th>\n",
       "      <th>Mode %</th>\n",
       "      <th>2nd Mode</th>\n",
       "      <th>2nd Mode freq.</th>\n",
       "      <th>2nd Mode %</th>\n",
       "    </tr>\n",
       "  </thead>\n",
       "  <tbody>\n",
       "    <tr>\n",
       "      <th>0</th>\n",
       "      <td>Age</td>\n",
       "      <td>200</td>\n",
       "      <td>0.0</td>\n",
       "      <td>57</td>\n",
       "      <td>47</td>\n",
       "      <td>8</td>\n",
       "      <td>4.0</td>\n",
       "      <td>23</td>\n",
       "      <td>7</td>\n",
       "      <td>3.5</td>\n",
       "    </tr>\n",
       "    <tr>\n",
       "      <th>1</th>\n",
       "      <td>AgeGroup</td>\n",
       "      <td>200</td>\n",
       "      <td>0.0</td>\n",
       "      <td>12</td>\n",
       "      <td>7</td>\n",
       "      <td>23</td>\n",
       "      <td>11.5</td>\n",
       "      <td>2</td>\n",
       "      <td>21</td>\n",
       "      <td>10.5</td>\n",
       "    </tr>\n",
       "    <tr>\n",
       "      <th>2</th>\n",
       "      <td>Sex</td>\n",
       "      <td>200</td>\n",
       "      <td>0.0</td>\n",
       "      <td>2</td>\n",
       "      <td>M</td>\n",
       "      <td>104</td>\n",
       "      <td>52.0</td>\n",
       "      <td>F</td>\n",
       "      <td>96</td>\n",
       "      <td>48.0</td>\n",
       "    </tr>\n",
       "    <tr>\n",
       "      <th>3</th>\n",
       "      <td>BP</td>\n",
       "      <td>200</td>\n",
       "      <td>0.0</td>\n",
       "      <td>3</td>\n",
       "      <td>HIGH</td>\n",
       "      <td>77</td>\n",
       "      <td>38.5</td>\n",
       "      <td>LOW</td>\n",
       "      <td>64</td>\n",
       "      <td>32.0</td>\n",
       "    </tr>\n",
       "    <tr>\n",
       "      <th>4</th>\n",
       "      <td>Cholesterol</td>\n",
       "      <td>200</td>\n",
       "      <td>0.0</td>\n",
       "      <td>2</td>\n",
       "      <td>HIGH</td>\n",
       "      <td>103</td>\n",
       "      <td>51.5</td>\n",
       "      <td>NORMAL</td>\n",
       "      <td>97</td>\n",
       "      <td>48.5</td>\n",
       "    </tr>\n",
       "  </tbody>\n",
       "</table>\n",
       "</div>"
      ],
      "text/plain": [
       "       feature  count  % miss.  card.  Mode  Mode freq.  Mode % 2nd Mode  \\\n",
       "0          Age    200      0.0     57    47           8     4.0       23   \n",
       "1     AgeGroup    200      0.0     12     7          23    11.5        2   \n",
       "2          Sex    200      0.0      2     M         104    52.0        F   \n",
       "3           BP    200      0.0      3  HIGH          77    38.5      LOW   \n",
       "4  Cholesterol    200      0.0      2  HIGH         103    51.5   NORMAL   \n",
       "\n",
       "   2nd Mode freq.  2nd Mode %  \n",
       "0               7         3.5  \n",
       "1              21        10.5  \n",
       "2              96        48.0  \n",
       "3              64        32.0  \n",
       "4              97        48.5  "
      ]
     },
     "execution_count": 88,
     "metadata": {},
     "output_type": "execute_result"
    }
   ],
   "source": [
    "categorial_cols = [\"Age\", \"AgeGroup\", \"Sex\", \"BP\", \"Cholesterol\"]\n",
    "headers = [\"feature\",\"count\", \"% miss.\", \"card.\", \"Mode\", \"Mode freq.\", \"Mode %\", \"2nd Mode\", \"2nd Mode freq.\", \"2nd Mode %\"]\n",
    "report = []\n",
    "for feature in categorial_cols:\n",
    "    report.append([\n",
    "        feature,\n",
    "        df[feature].size,\n",
    "        df[feature].isnull().sum() / df[feature].size,\n",
    "        df[feature].nunique(),\n",
    "        df[feature].mode().values[0],\n",
    "        df[feature].value_counts().max(),\n",
    "        (df[feature].value_counts().max() / df[feature].size) * 100,\n",
    "        df[feature].value_counts().index[1],\n",
    "        df[feature].value_counts().iloc[1],\n",
    "        (df[feature].value_counts().iloc[1] / df[feature].size) * 100,\n",
    "    ])\n",
    "pd.DataFrame(report, columns=headers)"
   ]
  },
  {
   "cell_type": "code",
   "execution_count": 89,
   "metadata": {},
   "outputs": [
    {
     "data": {
      "text/plain": [
       "<Axes: title={'center': 'Drug'}, xlabel='Drug'>"
      ]
     },
     "execution_count": 89,
     "metadata": {},
     "output_type": "execute_result"
    },
    {
     "data": {
      "image/png": "[encoded data removed]",
      "text/plain": [
       "<Figure size 640x480 with 1 Axes>"
      ]
     },
     "metadata": {},
     "output_type": "display_data"
    }
   ],
   "source": [
    "df['Drug'].value_counts().plot(kind='bar', title='Drug')"
   ]
  },
  {
   "cell_type": "code",
   "execution_count": 90,
   "metadata": {},
   "outputs": [],
   "source": [
    "# new_record = pd.Series({\"AgeGroup\": 47, \"Sex\": \"M\", \"BP\": \"LOW\", \"Cholesterol\": \"HIGH\"})\n",
    "# tree.predict(new_record)"
   ]
  },
  {
   "cell_type": "markdown",
   "metadata": {},
   "source": [
    "## 6. Real world dataset II"
   ]
  },
  {
   "cell_type": "code",
   "execution_count": 91,
   "metadata": {},
   "outputs": [
    {
     "data": {
      "text/plain": [
       "(1727, 7)"
      ]
     },
     "execution_count": 91,
     "metadata": {},
     "output_type": "execute_result"
    }
   ],
   "source": [
    "features = ['buying price', 'maintenance cost', 'nr of doors', 'nr of persons', 'lug boot', 'safety', 'decision']\n",
    "df = pd.read_csv('../../datasets/car_evaluation.decision-trees.csv', sep=',', names=features, header=0)\n",
    "\n",
    "d = features[:-1]\n",
    "t = 'decision'\n",
    "\n",
    "df.shape"
   ]
  },
  {
   "cell_type": "markdown",
   "metadata": {},
   "source": [
    "## 7. Validation"
   ]
  },
  {
   "cell_type": "code",
   "execution_count": 92,
   "metadata": {},
   "outputs": [
    {
     "data": {
      "text/html": [
       "<div>\n",
       "<style scoped>\n",
       "    .dataframe tbody tr th:only-of-type {\n",
       "        vertical-align: middle;\n",
       "    }\n",
       "\n",
       "    .dataframe tbody tr th {\n",
       "        vertical-align: top;\n",
       "    }\n",
       "\n",
       "    .dataframe thead th {\n",
       "        text-align: right;\n",
       "    }\n",
       "</style>\n",
       "<table border=\"1\" class=\"dataframe\">\n",
       "  <thead>\n",
       "    <tr style=\"text-align: right;\">\n",
       "      <th></th>\n",
       "      <th>buying price</th>\n",
       "      <th>maintenance cost</th>\n",
       "      <th>nr of doors</th>\n",
       "      <th>nr of persons</th>\n",
       "      <th>lug boot</th>\n",
       "      <th>safety</th>\n",
       "      <th>decision</th>\n",
       "      <th>Pred</th>\n",
       "    </tr>\n",
       "  </thead>\n",
       "  <tbody>\n",
       "    <tr>\n",
       "      <th>761</th>\n",
       "      <td>high</td>\n",
       "      <td>low</td>\n",
       "      <td>2</td>\n",
       "      <td>2</td>\n",
       "      <td>big</td>\n",
       "      <td>low</td>\n",
       "      <td>unacc</td>\n",
       "      <td>unacc</td>\n",
       "    </tr>\n",
       "    <tr>\n",
       "      <th>348</th>\n",
       "      <td>vhigh</td>\n",
       "      <td>low</td>\n",
       "      <td>2</td>\n",
       "      <td>more</td>\n",
       "      <td>big</td>\n",
       "      <td>med</td>\n",
       "      <td>acc</td>\n",
       "      <td>unacc</td>\n",
       "    </tr>\n",
       "    <tr>\n",
       "      <th>1508</th>\n",
       "      <td>low</td>\n",
       "      <td>high</td>\n",
       "      <td>5more</td>\n",
       "      <td>more</td>\n",
       "      <td>big</td>\n",
       "      <td>low</td>\n",
       "      <td>unacc</td>\n",
       "      <td>unacc</td>\n",
       "    </tr>\n",
       "    <tr>\n",
       "      <th>1512</th>\n",
       "      <td>low</td>\n",
       "      <td>med</td>\n",
       "      <td>2</td>\n",
       "      <td>2</td>\n",
       "      <td>small</td>\n",
       "      <td>med</td>\n",
       "      <td>unacc</td>\n",
       "      <td>unacc</td>\n",
       "    </tr>\n",
       "    <tr>\n",
       "      <th>1603</th>\n",
       "      <td>low</td>\n",
       "      <td>med</td>\n",
       "      <td>5more</td>\n",
       "      <td>4</td>\n",
       "      <td>small</td>\n",
       "      <td>high</td>\n",
       "      <td>good</td>\n",
       "      <td>vgood</td>\n",
       "    </tr>\n",
       "  </tbody>\n",
       "</table>\n",
       "</div>"
      ],
      "text/plain": [
       "     buying price maintenance cost nr of doors nr of persons lug boot safety  \\\n",
       "761          high              low           2             2      big    low   \n",
       "348         vhigh              low           2          more      big    med   \n",
       "1508          low             high       5more          more      big    low   \n",
       "1512          low              med           2             2    small    med   \n",
       "1603          low              med       5more             4    small   high   \n",
       "\n",
       "     decision   Pred  \n",
       "761     unacc  unacc  \n",
       "348       acc  unacc  \n",
       "1508    unacc  unacc  \n",
       "1512    unacc  unacc  \n",
       "1603     good  vgood  "
      ]
     },
     "execution_count": 92,
     "metadata": {},
     "output_type": "execute_result"
    }
   ],
   "source": [
    "train, test = train_test_split(df, test_size=0.3) \n",
    "\n",
    "D: DataSet = DataSet(train, t)\n",
    "\n",
    "tree = ID3(d, D)\n",
    "test['Pred'] = df.apply(lambda x: tree.predict(x), axis=1)\n",
    "test.head(5)"
   ]
  },
  {
   "cell_type": "code",
   "execution_count": 93,
   "metadata": {},
   "outputs": [
    {
     "data": {
      "text/html": [
       "<div>\n",
       "<style scoped>\n",
       "    .dataframe tbody tr th:only-of-type {\n",
       "        vertical-align: middle;\n",
       "    }\n",
       "\n",
       "    .dataframe tbody tr th {\n",
       "        vertical-align: top;\n",
       "    }\n",
       "\n",
       "    .dataframe thead th {\n",
       "        text-align: right;\n",
       "    }\n",
       "</style>\n",
       "<table border=\"1\" class=\"dataframe\">\n",
       "  <thead>\n",
       "    <tr style=\"text-align: right;\">\n",
       "      <th></th>\n",
       "      <th>buying price</th>\n",
       "      <th>maintenance cost</th>\n",
       "      <th>nr of doors</th>\n",
       "      <th>nr of persons</th>\n",
       "      <th>lug boot</th>\n",
       "      <th>safety</th>\n",
       "      <th>decision</th>\n",
       "      <th>Pred</th>\n",
       "    </tr>\n",
       "  </thead>\n",
       "  <tbody>\n",
       "    <tr>\n",
       "      <th>1678</th>\n",
       "      <td>low</td>\n",
       "      <td>low</td>\n",
       "      <td>4</td>\n",
       "      <td>2</td>\n",
       "      <td>med</td>\n",
       "      <td>high</td>\n",
       "      <td>unacc</td>\n",
       "      <td>unacc</td>\n",
       "    </tr>\n",
       "    <tr>\n",
       "      <th>836</th>\n",
       "      <td>high</td>\n",
       "      <td>low</td>\n",
       "      <td>5more</td>\n",
       "      <td>2</td>\n",
       "      <td>small</td>\n",
       "      <td>low</td>\n",
       "      <td>unacc</td>\n",
       "      <td>unacc</td>\n",
       "    </tr>\n",
       "    <tr>\n",
       "      <th>1358</th>\n",
       "      <td>low</td>\n",
       "      <td>vhigh</td>\n",
       "      <td>4</td>\n",
       "      <td>4</td>\n",
       "      <td>small</td>\n",
       "      <td>low</td>\n",
       "      <td>unacc</td>\n",
       "      <td>unacc</td>\n",
       "    </tr>\n",
       "    <tr>\n",
       "      <th>92</th>\n",
       "      <td>vhigh</td>\n",
       "      <td>vhigh</td>\n",
       "      <td>5more</td>\n",
       "      <td>4</td>\n",
       "      <td>med</td>\n",
       "      <td>low</td>\n",
       "      <td>unacc</td>\n",
       "      <td>unacc</td>\n",
       "    </tr>\n",
       "    <tr>\n",
       "      <th>842</th>\n",
       "      <td>high</td>\n",
       "      <td>low</td>\n",
       "      <td>5more</td>\n",
       "      <td>2</td>\n",
       "      <td>big</td>\n",
       "      <td>low</td>\n",
       "      <td>unacc</td>\n",
       "      <td>unacc</td>\n",
       "    </tr>\n",
       "  </tbody>\n",
       "</table>\n",
       "</div>"
      ],
      "text/plain": [
       "     buying price maintenance cost nr of doors nr of persons lug boot safety  \\\n",
       "1678          low              low           4             2      med   high   \n",
       "836          high              low       5more             2    small    low   \n",
       "1358          low            vhigh           4             4    small    low   \n",
       "92          vhigh            vhigh       5more             4      med    low   \n",
       "842          high              low       5more             2      big    low   \n",
       "\n",
       "     decision   Pred  \n",
       "1678    unacc  unacc  \n",
       "836     unacc  unacc  \n",
       "1358    unacc  unacc  \n",
       "92      unacc  unacc  \n",
       "842     unacc  unacc  "
      ]
     },
     "execution_count": 93,
     "metadata": {},
     "output_type": "execute_result"
    }
   ],
   "source": [
    "train, test = train_test_split(df, test_size=0.1) \n",
    "\n",
    "D: DataSet = DataSet(train, t)\n",
    "\n",
    "tree = ID3(d, D)\n",
    "\n",
    "test['Pred'] = df.apply(lambda x: tree.predict(x), axis=1)\n",
    "test.head(5)"
   ]
  },
  {
   "cell_type": "code",
   "execution_count": 94,
   "metadata": {},
   "outputs": [
    {
     "data": {
      "text/html": [
       "<div>\n",
       "<style scoped>\n",
       "    .dataframe tbody tr th:only-of-type {\n",
       "        vertical-align: middle;\n",
       "    }\n",
       "\n",
       "    .dataframe tbody tr th {\n",
       "        vertical-align: top;\n",
       "    }\n",
       "\n",
       "    .dataframe thead th {\n",
       "        text-align: right;\n",
       "    }\n",
       "</style>\n",
       "<table border=\"1\" class=\"dataframe\">\n",
       "  <thead>\n",
       "    <tr style=\"text-align: right;\">\n",
       "      <th></th>\n",
       "      <th>decision</th>\n",
       "      <th>Correct</th>\n",
       "      <th>Incorrect</th>\n",
       "      <th>Accuracy</th>\n",
       "    </tr>\n",
       "  </thead>\n",
       "  <tbody>\n",
       "    <tr>\n",
       "      <th>0</th>\n",
       "      <td>unacc</td>\n",
       "      <td>120</td>\n",
       "      <td>0</td>\n",
       "      <td>1.0</td>\n",
       "    </tr>\n",
       "    <tr>\n",
       "      <th>1</th>\n",
       "      <td>acc</td>\n",
       "      <td>44</td>\n",
       "      <td>0</td>\n",
       "      <td>1.0</td>\n",
       "    </tr>\n",
       "    <tr>\n",
       "      <th>2</th>\n",
       "      <td>vgood</td>\n",
       "      <td>3</td>\n",
       "      <td>0</td>\n",
       "      <td>1.0</td>\n",
       "    </tr>\n",
       "    <tr>\n",
       "      <th>3</th>\n",
       "      <td>good</td>\n",
       "      <td>6</td>\n",
       "      <td>0</td>\n",
       "      <td>1.0</td>\n",
       "    </tr>\n",
       "    <tr>\n",
       "      <th>4</th>\n",
       "      <td>Total</td>\n",
       "      <td>173</td>\n",
       "      <td>0</td>\n",
       "      <td>1.0</td>\n",
       "    </tr>\n",
       "  </tbody>\n",
       "</table>\n",
       "</div>"
      ],
      "text/plain": [
       "  decision  Correct  Incorrect  Accuracy\n",
       "0    unacc      120          0       1.0\n",
       "1      acc       44          0       1.0\n",
       "2    vgood        3          0       1.0\n",
       "3     good        6          0       1.0\n",
       "4    Total      173          0       1.0"
      ]
     },
     "execution_count": 94,
     "metadata": {},
     "output_type": "execute_result"
    }
   ],
   "source": [
    "# Create a new DataFrame with unique 'Target' levels\n",
    "accuracy_df = pd.DataFrame(test[t].unique(), columns=[t])\n",
    "\n",
    "# Calculate the count of correct and incorrect predictions\n",
    "accuracy_df['Correct'] = accuracy_df[t].apply(lambda x: ((test[t] == x) & (test[t] == x)).sum())\n",
    "accuracy_df['Incorrect'] = accuracy_df[t].apply(lambda x: ((test[t] == x) & (test[t] != x)).sum())\n",
    "accuracy_df['Accuracy'] = round(accuracy_df['Correct'] / (accuracy_df['Correct'] + accuracy_df['Incorrect']),3)\n",
    "\n",
    "accuracy_df.loc[len(accuracy_df.index)] = ['Total', accuracy_df['Correct'].sum(), accuracy_df['Incorrect'].sum(), accuracy_df['Accuracy'].mean()] \n",
    "\n",
    "accuracy_df"
   ]
  }
 ],
 "metadata": {
  "kernelspec": {
   "display_name": "Python 3",
   "language": "python",
   "name": "python3"
  },
  "language_info": {
   "codemirror_mode": {
    "name": "ipython",
    "version": 3
   },
   "file_extension": ".py",
   "mimetype": "text/x-python",
   "name": "python",
   "nbconvert_exporter": "python",
   "pygments_lexer": "ipython3",
   "version": "3.11.4"
  }
 },
 "nbformat": 4,
 "nbformat_minor": 2
}
