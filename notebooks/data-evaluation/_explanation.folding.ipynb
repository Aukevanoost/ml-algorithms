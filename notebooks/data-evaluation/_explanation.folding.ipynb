{
 "cells": [
  {
   "cell_type": "markdown",
   "metadata": {},
   "source": [
    "# Folding"
   ]
  },
  {
   "cell_type": "markdown",
   "metadata": {},
   "source": [
    "## Common holdout functions\n",
    "\n",
    "**50:20:30**\n",
    "<table style=\"width:700px; text-align: center\">\n",
    "    <tr>\n",
    "        <td style=\"width:50%\" >50%<br />Training set</td>\n",
    "        <td style=\"width:20%\" >20%<br />Validation set</td>\n",
    "        <td style=\"width:30%\" >30%<br />Test set</td>\n",
    "    </tr>\n",
    "</table>\n",
    "\n",
    "**40:20:40**\n",
    "<table style=\"width:700px; text-align: center\">\n",
    "    <tr>\n",
    "        <td style=\"width:40%\" >40%<br />Training set</td>\n",
    "        <td style=\"width:20%\" >20%<br />Validation set</td>\n",
    "        <td style=\"width:40%\" >40%<br />Test set</td>\n",
    "    </tr>\n",
    "</table>"
   ]
  },
  {
   "cell_type": "markdown",
   "metadata": {},
   "source": [
    "## K-fold cross validation\n",
    "\n",
    "**5 fold example:**\n",
    "<table style=\"width:700px; text-align: center\">\n",
    "    <tr>\n",
    "        <td style=\"width: 10%\">Fold 1</td><td style=\"background-color: rgba(200,200,200,0.5)\">Test data</td><td colspan=\"4\"></td>\n",
    "    </tr>\n",
    "    <tr>\n",
    "        <td>Fold 2</td><td></td><td style=\"background-color: rgba(200,200,200,0.5)\">Test data</td><td colspan=\"3\"></td>\n",
    "    </tr>\n",
    "    <tr>\n",
    "        <td>Fold 3</td><td colspan=\"2\"></td><td style=\"background-color: rgba(200,200,200,0.5)\">Test data</td><td colspan=\"2\"></td>\n",
    "    </tr>\n",
    "    <tr>\n",
    "        <td>Fold 4</td><td colspan=\"3\"></td><td style=\"background-color: rgba(200,200,200,0.5)\">Test data</td><td></td>\n",
    "    </tr>\n",
    "    <tr>\n",
    "        <td>Fold 5</td><td colspan=\"4\"></td><td style=\"background-color: rgba(200,200,200,0.5)\">Test data</td>\n",
    "    </tr>\n",
    "</table>"
   ]
  },
  {
   "cell_type": "code",
   "execution_count": null,
   "metadata": {},
   "outputs": [],
   "source": []
  }
 ],
 "metadata": {
  "kernelspec": {
   "display_name": "Python 3",
   "language": "python",
   "name": "python3"
  },
  "language_info": {
   "codemirror_mode": {
    "name": "ipython",
    "version": 3
   },
   "file_extension": ".py",
   "mimetype": "text/x-python",
   "name": "python",
   "nbconvert_exporter": "python",
   "pygments_lexer": "ipython3",
   "version": "3.11.4"
  }
 },
 "nbformat": 4,
 "nbformat_minor": 2
}
